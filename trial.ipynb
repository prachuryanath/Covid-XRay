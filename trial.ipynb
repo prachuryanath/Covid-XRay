{
 "cells": [
  {
   "cell_type": "code",
   "execution_count": 1,
   "source": [
    "import tensorflow as tf\r\n",
    "import matplotlib.pyplot as plt\r\n",
    "import numpy as np"
   ],
   "outputs": [],
   "metadata": {}
  },
  {
   "cell_type": "code",
   "execution_count": 2,
   "source": [
    "model = tf.keras.models.load_model('model')"
   ],
   "outputs": [],
   "metadata": {}
  },
  {
   "cell_type": "code",
   "execution_count": 3,
   "source": [
    "from PIL import Image\r\n",
    "def load_and_prep_image(filename, img_shape=224):\r\n",
    "  \"\"\"\r\n",
    "  Reads in an image from filename, turns it into a tensor and reshapes into (224,224,3).\r\n",
    "  \"\"\"\r\n",
    "  # Read in the image\r\n",
    "  img = tf.io.read_file(filename)\r\n",
    "  # Decode it into a tensor\r\n",
    "  img = tf.image.decode_jpeg(img, channels=3)\r\n",
    "  # Resize the image\r\n",
    "  img = tf.image.resize(img, [img_shape, img_shape])\r\n",
    "  # Rescale the image (get all values between 0 and 1)\r\n",
    "  img = img/255.\r\n",
    "  return img"
   ],
   "outputs": [],
   "metadata": {}
  },
  {
   "cell_type": "code",
   "execution_count": 4,
   "source": [
    "# Load in and preprocess our custom image\r\n",
    "covid = load_and_prep_image(\"data\\CT_COVID\\Covid (819).png\")\r\n",
    "covid"
   ],
   "outputs": [
    {
     "output_type": "execute_result",
     "data": {
      "text/plain": [
       "<tf.Tensor: shape=(224, 224, 3), dtype=float32, numpy=\n",
       "array([[[0.91064423, 0.91064423, 0.91064423],\n",
       "        [0.9137255 , 0.9137255 , 0.9137255 ],\n",
       "        [0.9616246 , 0.9616246 , 0.9616246 ],\n",
       "        ...,\n",
       "        [0.9067225 , 0.9067225 , 0.9067225 ],\n",
       "        [0.91148466, 0.91148466, 0.91148466],\n",
       "        [0.9277313 , 0.9277313 , 0.9277313 ]],\n",
       "\n",
       "       [[0.95209837, 0.95209837, 0.95209837],\n",
       "        [0.89686745, 0.89686745, 0.89686745],\n",
       "        [0.9502938 , 0.9502938 , 0.9502938 ],\n",
       "        ...,\n",
       "        [0.9186059 , 0.9186059 , 0.9186059 ],\n",
       "        [0.9230918 , 0.9230918 , 0.9230918 ],\n",
       "        [0.9393384 , 0.9393384 , 0.9393384 ]],\n",
       "\n",
       "       [[0.91432077, 0.91432077, 0.91432077],\n",
       "        [0.92019063, 0.92019063, 0.92019063],\n",
       "        [0.9216587 , 0.9216587 , 0.9216587 ],\n",
       "        ...,\n",
       "        [0.93382955, 0.93382955, 0.93382955],\n",
       "        [0.9229755 , 0.9229755 , 0.9229755 ],\n",
       "        [0.9408655 , 0.9408655 , 0.9408655 ]],\n",
       "\n",
       "       ...,\n",
       "\n",
       "       [[0.86312276, 0.86312276, 0.86312276],\n",
       "        [0.8955293 , 0.8955293 , 0.8955293 ],\n",
       "        [0.8536628 , 0.8536628 , 0.8536628 ],\n",
       "        ...,\n",
       "        [0.8327932 , 0.8327932 , 0.8327932 ],\n",
       "        [0.8608136 , 0.8608136 , 0.8608136 ],\n",
       "        [0.899168  , 0.899168  , 0.899168  ]],\n",
       "\n",
       "       [[0.7688653 , 0.7688653 , 0.7688653 ],\n",
       "        [0.80887324, 0.80887324, 0.80887324],\n",
       "        [0.847541  , 0.847541  , 0.847541  ],\n",
       "        ...,\n",
       "        [0.7850098 , 0.7850098 , 0.7850098 ],\n",
       "        [0.8375802 , 0.8375802 , 0.8375802 ],\n",
       "        [0.8501799 , 0.8501799 , 0.8501799 ]],\n",
       "\n",
       "       [[0.74509805, 0.74509805, 0.74509805],\n",
       "        [0.71960783, 0.71960783, 0.71960783],\n",
       "        [0.77983195, 0.77983195, 0.77983195],\n",
       "        ...,\n",
       "        [0.8156863 , 0.8156863 , 0.8156863 ],\n",
       "        [0.8408964 , 0.8408964 , 0.8408964 ],\n",
       "        [0.8324925 , 0.8324925 , 0.8324925 ]]], dtype=float32)>"
      ]
     },
     "metadata": {},
     "execution_count": 4
    }
   ],
   "metadata": {}
  },
  {
   "cell_type": "code",
   "execution_count": 5,
   "source": [
    "class_names = np.array(['CT_COVID','CT_NonCOVID'])"
   ],
   "outputs": [],
   "metadata": {}
  },
  {
   "cell_type": "code",
   "execution_count": 6,
   "source": [
    "def pred_and_plot(model, filename, class_names):\r\n",
    "  \"\"\"\r\n",
    "  Imports an image located at filename, makes a prediction on it with\r\n",
    "  a trained model and plots the image with the predicted class as the title.\r\n",
    "  \"\"\"\r\n",
    "  # Import the target image and preprocess it\r\n",
    "  img = load_and_prep_image(filename)\r\n",
    "\r\n",
    "  # Make a prediction\r\n",
    "  pred = model.predict(tf.expand_dims(img, axis=0))\r\n",
    "\r\n",
    "  # Get the predicted class\r\n",
    "  pred_round = int(tf.round(pred))\r\n",
    "  if pred_round == 1:\r\n",
    "    pred_class = \"NonCovid\"\r\n",
    "  else:\r\n",
    "    pred_class = \"Covid\"\r\n",
    "\r\n",
    "  # Plot the image and predicted class\r\n",
    "  plt.imshow(img)\r\n",
    "  plt.title(f\"Prediction: {pred_class}\")\r\n",
    "  plt.axis(False);"
   ],
   "outputs": [],
   "metadata": {}
  },
  {
   "cell_type": "code",
   "execution_count": 7,
   "source": [
    "# Test our model on a custom image\r\n",
    "pred_and_plot(model, \"test_images/noncovid_1.jpg\", class_names)"
   ],
   "outputs": [],
   "metadata": {}
  },
  {
   "cell_type": "code",
   "execution_count": null,
   "source": [],
   "outputs": [],
   "metadata": {}
  }
 ],
 "metadata": {
  "orig_nbformat": 4,
  "language_info": {
   "name": "python"
  }
 },
 "nbformat": 4,
 "nbformat_minor": 2
}